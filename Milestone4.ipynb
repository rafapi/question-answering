{
 "cells": [
  {
   "cell_type": "markdown",
   "metadata": {},
   "source": [
    "# Milestone 4"
   ]
  },
  {
   "cell_type": "markdown",
   "metadata": {},
   "source": [
    "Set up the questions and the paragraphs "
   ]
  },
  {
   "cell_type": "code",
   "execution_count": 2,
   "metadata": {},
   "outputs": [],
   "source": [
    "import pandas as pd\n",
    "\n",
    "df = pd.read_csv(\"paragraphs.csv\")\n",
    "\n",
    "questions = [\n",
    "    [\"Does a company need to keep track of the carbon intensity of the electricity?\"],\n",
    "    [\"What metric is used for evaluating emission?\"],\n",
    "    [\"How does one get to net-zero emissions economy?\"],\n",
    "    [\"What is net-zero emissions economy?\"],\n",
    "    [\"How can carbon emission of the processes of cement clinker be reduced?\"],\n",
    "    [\"How is the Weighted Cogeneration Threshold calculated?\"],\n",
    "    [\"What is carbon capture and sequestration?\"],\n",
    "    [\"What stages does CCS consist of?\"],\n",
    "    [\"What should be the average energy consumption of a water supply system?\"],\n",
    "    [\"What are sludge treatments?\"],\n",
    "    [\"How is the process of anaerobic digestion?\"],\n",
    "    [\"What is considered Zero direct emission vehicles?\"]\n",
    "]\n"
   ]
  },
  {
   "cell_type": "markdown",
   "metadata": {},
   "source": [
    "Set up the vectorizer and user a function to most similar paragraph to the question."
   ]
  },
  {
   "cell_type": "code",
   "execution_count": 3,
   "metadata": {},
   "outputs": [],
   "source": [
    "from sklearn.feature_extraction.text import TfidfVectorizer\n",
    "from sklearn.metrics.pairwise import linear_kernel\n",
    "\n",
    "vectorizer = TfidfVectorizer()\n",
    "vector_corpus = vectorizer.fit_transform(df[\"paragraph\"])\n",
    "\n",
    "\n",
    "def get_context(question):\n",
    "    q_v = vectorizer.transform(question)\n",
    "    lk_rank = linear_kernel(q_v, vector_corpus).flatten()\n",
    "    return df[\"paragraph\"][lk_rank.argsort()[-1]]"
   ]
  },
  {
   "cell_type": "markdown",
   "metadata": {},
   "source": [
    "Initiate the QA pipeline and a function which return the answer"
   ]
  },
  {
   "cell_type": "code",
   "execution_count": 8,
   "metadata": {},
   "outputs": [
    {
     "name": "stderr",
     "output_type": "stream",
     "text": [
      "Downloading: 100%|██████████| 230/230 [00:00<00:00, 55.5kB/s]\n"
     ]
    }
   ],
   "source": [
    "from transformers import pipeline\n",
    "\n",
    "\n",
    "MODEL = \"distilbert-base-uncased-distilled-squad\"\n",
    "qamodel = pipeline(\"question-answering\", model=MODEL, tokenizer=MODEL, device=-1)\n",
    "\n",
    "def get_answer_pipeline(question, context):\n",
    "    answer = qamodel(question=question, context=context)\n",
    "    return answer[\"answer\"].rstrip(\".\").rstrip(\",\").lstrip(\"(\").rstrip(\")\").rstrip(\".\").strip(\"'\").strip(\":\")\n"
   ]
  },
  {
   "cell_type": "markdown",
   "metadata": {},
   "source": [
    "Go through the different questions and print the answers and the contexts"
   ]
  },
  {
   "cell_type": "code",
   "execution_count": 12,
   "metadata": {},
   "outputs": [
    {
     "name": "stdout",
     "output_type": "stream",
     "text": [
      "Does a company need to keep track of the carbon intensity of the electricity?\n",
      "\n",
      "on the basis of a prevailing PPA Power Purchase Agreement\n",
      "\n",
      "the availability of low carbon electricity may be a limiting factor Therefore aa manufacturer could either directly produce its own low carbon electricity or purchase low carbon electricity or renewable energy certificates It should be possible to verify the average carbon intensity of the electricity on the basis of a prevailing PPA Power Purchase Agreement It is acknowledged that aluminium production facilities may play an important role in stabilizing electricity grids by active management of electricity demand This may result in substantial mitigation contributions eg by limiting the need for electricity storage facilities However given the lack of available metrics to quantify these impacts these benefits are not taken into account at this stage  It is acknowledged that aluminium will play a role in a low carbon economy in particular enabling light weight products and electrification including transmission wires Such applications could also be considered eligible under the activity Manufacture of other low carbon technologies provided they can demonstrate substantial emissions reductions according to the criteria for that activity\n",
      "----------------------------------------------------------------------------------------------------\n",
      "What metric is used for evaluating emission?\n",
      "\n",
      "gCO2e\n",
      "\n",
      "The threshold metric is gCO2e and not an intensity metric such as gCO2e unit of production as this enables the Taxonomy to be applied by both those reducing emission intensity eg through efficiency while also requiring them to reduce emissions overall  the overall goal\n",
      "----------------------------------------------------------------------------------------------------\n",
      "How does one get to net-zero emissions economy?\n",
      "\n",
      "to enable the screening of economic activities\n",
      "\n",
      "Opportunities for substantial mitigation and contributions to a net zero carbon economy An overarching goal of the Taxonomy is to enable the screening of economic activities to determine whether or when they do or do not deliver substantial mitigation consistent with the underlying goal of a net zero carbon economy by 2050\n",
      "----------------------------------------------------------------------------------------------------\n",
      "What is net-zero emissions economy?\n",
      "\n",
      "to enable the screening of economic activities\n",
      "\n",
      "Opportunities for substantial mitigation and contributions to a net zero carbon economy An overarching goal of the Taxonomy is to enable the screening of economic activities to determine whether or when they do or do not deliver substantial mitigation consistent with the underlying goal of a net zero carbon economy by 2050\n",
      "----------------------------------------------------------------------------------------------------\n",
      "How can carbon emission of the processes of cement clinker be reduced?\n",
      "\n",
      "use of biomass and waste materials\n",
      "\n",
      "Improving energy efficiency Thermal energy intensity of clinker and the electric intensity of cement can be reduced by deploying existing stateoftheart technologies in new cement plants and retrofitting existing facilities to improve energy performance levels when economically viable   Switching to alternative fuels The carbon intensity of cement clinker can be reduced significantly by the use of biomass and waste materials as fuels in cement kilns The clinker burning process offers good conditions for using different types of waste materials replacing parts of the consumption of carbonintensive fossil fuels A wide range of different types of wastes can be used as fuels but as these can replace primary fuel in cement kilns a consistent waste quality is essential eg adequate calorific value metal halogen and ash content\n",
      "----------------------------------------------------------------------------------------------------\n",
      "How is the Weighted Cogeneration Threshold calculated?\n",
      "\n",
      "from the relative production of heat and power\n",
      "\n",
      "Any combined heat and power generation technology is eligible if it can be demonstrated using an ISO 14044compliant Life Cycle of Emissions LCE assessment that the facility is operating at less than the weighted cogeneration threshold  The Weighted Cogeneration Threshold is calculated from the relative production of heat and power and based on the declining power generation threshold of 100 gCO2ekWhe and a notional heat threshold of 30 gCO2ekWhth\n",
      "----------------------------------------------------------------------------------------------------\n",
      "What is carbon capture and sequestration?\n",
      "\n",
      "a key technology for the decarbonisation of Europe\n",
      "\n",
      "Why carbon capture and sequestration CCS is included in the Taxonomy  Carbon capture and sequestration CCS is a key technology for the decarbonisation of Europe It is included in all pathways presented by the European Commission in its LongTerm Strategic Vision document and is relied upon heavily in threeoutoffour scenarios outlined by the IPCC in the Special Report on 15 Degrees\n",
      "----------------------------------------------------------------------------------------------------\n",
      "What stages does CCS consist of?\n",
      "\n",
      "capture transport and storage CO2 transport and storage\n",
      "\n",
      "A typical CCS chain consists of three main stages capture transport and storage CO2 transport and storage are established and proven processes with decades of operation and wellestablished regulation here in Europe\n",
      "----------------------------------------------------------------------------------------------------\n",
      "What should be the average energy consumption of a water supply system?\n",
      "\n",
      "05 kwh per cubic meter\n",
      "\n",
      "length of the network etc For the purpose of the Taxonomy ILI and kwhm3 supplied were chosen as parameters in order to measure the efficiency of a water supply system  An average energy consumption of a water supply system of 05 kwh per cubic meter billedunbilled authorized water supply indicates a high performing system in terms of energy consumption Several energy efficiency measures can reduce directly the energy consumption in a water supply system enabling significant reductions of GHG emissions these are inter alia\n",
      "----------------------------------------------------------------------------------------------------\n",
      "What are sludge treatments?\n",
      "\n",
      "aerobic digestion\n",
      "\n",
      "Threshold Rationale Sewage sludge is a byproduct of wastewater treatment with organic and inorganic content The organic content of the sludge is subject of decomposition which might occur under controlled circumstances in sludge treatment installations or under uncontrolled circumstances in the final disposal with significant GHG emissions mainly methane Anaerobic Digestion AD and in some cases aerobic digestion are examples of sludge treatments In AD microorganisms decompose the organic matter of the sludge in the absence of oxygen and produce methanerich biogas The climate mitigation effect is dual  i The biogas is a source of energy which is transformed into heat electricity or fuel replacing fossil fuels in electricity  heat generation and consequently avoiding GHG emissions to air CO2 N2O etc320 ii the sludge is turned into a recyclable product eg as fertilizer substituting synthetic fertilizers  Sludge treatment is in many cases centralized in wastewater treatment plants WWTP which treat the sludge and produce energy from sludge produced in the WWTP or outside the plant  Methane leakage may offset the climate mitigation benefits and therefore needs to be avoided A monitoring system allows the detection of leakages it is in the interest of the operator to fix detected leakages in order to minimize economic losses\n",
      "----------------------------------------------------------------------------------------------------\n",
      "How is the process of anaerobic digestion?\n",
      "\n",
      "production and energetic utilization of biogas and production of digestate\n",
      "\n",
      "E  Water supply sewerage waste management and remediation activities 4 E3821  Anaerobic digestion of biowaste322 Treatment of separately collected biowaste through anaerobic digestion with the resulting production and energetic utilization of biogas and production of digestate for use as fertilizersoil improver323 possibly after composting or any other treatment\n",
      "----------------------------------------------------------------------------------------------------\n"
     ]
    },
    {
     "name": "stdout",
     "output_type": "stream",
     "text": [
      "What is considered Zero direct emission vehicles?\n",
      "\n",
      "eg electric hydrogen\n",
      "\n",
      "Rationale This activity includes operation of vehicles classified as N2 and N3 vehicles as defined by REGULATION EU 2018858  Zero direct emission vehicles and vehicles with low and reducing emission intensities contribute substantially to climate mitigation and are aligned with Article 6 1 c increasing clean or climate neutral mobility and Article 6 1 f phasing out anthropogenic emissions of greenhouse gases including from fossil fuels Zero direct emissions vehicles eg electric hydrogen is eligible because   the generation of the energy carriers used by zero direct emissions transport is assumed to become low or zero carbon in the near future for instance in the scenario called EUCO 3038 that meets the EU targets in the clean energy package 70 of electricity in the EU is generated from decarbonised sources in 2030  Key reference point for thresholds Heavy Duty CO2 Regulation Procedure 20180143COD httpsoeilmsecureeuroparleuropaeuoeilmobileficheprocedure20180143COD httpseurlexeuropaeuprocedureEN2018_143uriPROCEDURE2018_143\n",
      "----------------------------------------------------------------------------------------------------\n"
     ]
    }
   ],
   "source": [
    "for question in questions:\n",
    "    context = get_context(question)\n",
    "    answer = get_answer_pipeline(question, context)\n",
    "    print(f\"{question[0]}\\n\\n{answer}\\n\\n{context}\")\n",
    "    print(\"-\"*100)"
   ]
  }
 ],
 "metadata": {
  "kernelspec": {
   "display_name": "LiveProject",
   "language": "python",
   "name": "liveproject"
  },
  "language_info": {
   "codemirror_mode": {
    "name": "ipython",
    "version": 3
   },
   "file_extension": ".py",
   "mimetype": "text/x-python",
   "name": "python",
   "nbconvert_exporter": "python",
   "pygments_lexer": "ipython3",
   "version": "3.8.3"
  }
 },
 "nbformat": 4,
 "nbformat_minor": 2
}
