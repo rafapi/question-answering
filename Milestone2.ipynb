{
 "cells": [
  {
   "cell_type": "markdown",
   "metadata": {},
   "source": [
    "# Milestone 2"
   ]
  },
  {
   "cell_type": "markdown",
   "metadata": {},
   "source": [
    "Start off by loading the paragraphs from previous milestone into a pandas dataframe. Then Set up a list of the questions."
   ]
  },
  {
   "cell_type": "code",
   "execution_count": 1,
   "metadata": {},
   "outputs": [],
   "source": [
    "import pandas as pd\n",
    "\n",
    "df = pd.read_csv(\"paragraphs.csv\")\n",
    "\n",
    "questions = [\n",
    "    [\"What fuel is used for manufacturing of chlorine?\"],\n",
    "    [\"What metric is used for evaluating emission?\"],\n",
    "    [\"How can carbon emission of the processes of cement clinker be reduced?\"],\n",
    "    [\"How is the Weighted Cogeneration Threshold calculated?\"],\n",
    "    [\"What is carbon capture and sequestration?\"],\n",
    "    [\"What stages does CCS consist of?\"],\n",
    "    [\"What should be the average energy consumption of a water supply system?\"],\n",
    "    [\"What are examples of sludge treatments?\"],\n",
    "    [\"How is the process of anaerobic digestion?\"],\n",
    "    [\"How is reforestation defined?\"],\n",
    "    [\"What is the threshold of emssion for inland passenger water transport?\"], \n",
    "    [\"What are the requirements of reporting for electricity generation from natural gas where there might be fugative emissions?\"]\n",
    "]"
   ]
  },
  {
   "cell_type": "markdown",
   "metadata": {},
   "source": [
    "The first method we want to test out for getting the representations for the paragraphs is Term Frequency Inverse Document Frequency (TFIDF). We will use the scikit learn package. Note that I am not filtering out the stop words here, this is can be something worth doing."
   ]
  },
  {
   "cell_type": "code",
   "execution_count": 2,
   "metadata": {},
   "outputs": [],
   "source": [
    "from sklearn.feature_extraction.text import TfidfVectorizer\n",
    "\n",
    "vectorizer = TfidfVectorizer()\n",
    "vector_corpus = vectorizer.fit_transform(df[\"paragraph\"])"
   ]
  },
  {
   "cell_type": "markdown",
   "metadata": {},
   "source": [
    "Once we have the TFIDF vectorizer and the corpus vectorized we want to iterate over the questions and get the vector. We use the linear kernal to calculate the distance between the question representation and the corpus vectors."
   ]
  },
  {
   "cell_type": "code",
   "execution_count": 3,
   "metadata": {},
   "outputs": [],
   "source": [
    "from sklearn.metrics.pairwise import linear_kernel\n",
    "\n",
    "qcontexts = []\n",
    "for question in questions:\n",
    "    q_v = vectorizer.transform(question)\n",
    "    lk_rank = linear_kernel(q_v, vector_corpus).flatten()\n",
    "    qcontexts.append((question, df[\"paragraph\"][lk_rank.argsort()[-1]]))"
   ]
  },
  {
   "cell_type": "markdown",
   "metadata": {},
   "source": [
    "For comparison we will try to get the Doc2vec representation as well and see how it will perform. The package used here is `gensim` and it has a built in similarity measure. "
   ]
  },
  {
   "cell_type": "code",
   "execution_count": 4,
   "metadata": {},
   "outputs": [],
   "source": [
    "import gensim\n",
    "\n",
    "def read_corpus(text, tokens_only=False):\n",
    "    for i, line in enumerate(text):\n",
    "        tokens = gensim.utils.simple_preprocess(line)\n",
    "        if tokens_only:\n",
    "            yield tokens\n",
    "        else:\n",
    "            # For training data, add tags\n",
    "            yield gensim.models.doc2vec.TaggedDocument(tokens, [i])\n",
    "\n",
    "corpus = list(read_corpus(df[\"paragraph\"].values))\n",
    "model = gensim.models.doc2vec.Doc2Vec(vector_size=50, min_count=2, epochs=40)\n",
    "model.build_vocab(corpus)\n",
    "model.train(corpus, total_examples=model.corpus_count, epochs=model.epochs)\n",
    "qcontext_doc2vec = []\n",
    "for question in questions:\n",
    "    q1 = list(read_corpus(question, tokens_only=True))\n",
    "    inferred_vector = model.infer_vector(q1[0])\n",
    "    sims = model.docvecs.most_similar([inferred_vector], topn=len(model.docvecs))\n",
    "    qcontext_doc2vec.append((question, df[\"paragraph\"][sims[0][0]]))"
   ]
  },
  {
   "cell_type": "markdown",
   "metadata": {},
   "source": [
    "As a last step we print the results so we can evaluate the different methods."
   ]
  },
  {
   "cell_type": "code",
   "execution_count": 5,
   "metadata": {},
   "outputs": [
    {
     "name": "stdout",
     "output_type": "stream",
     "text": [
      "What fuel is used for manufacturing of chlorine?\n",
      "tfidf: Rationale The manufacturing process of carbon black accounts for approximately 34 of the GHG emissions from the chemical sector while the manufacturing of soda ash accounts for 15 of the emissions236 The manufacturing process of chlorine is extremely energyintensive with chloralkali process accounting for 17 of total electrical consumption of the European chemical and petrochemical industry237 Reducing the manufacturing emissions for carbon black and soda ash and improving energy efficiency in the manufacturing of chlorine can positively contribute to the mitigation objective The absolute performance approach has been proposed in order to identify the maximum acceptable carbon intensities of the manufacturing processes of carbon black and soda ash that the activities should comply with in order to be able to substantially contribute to the mitigation objective  For the manufacturing of chlorine a process that uses electricity to fuel the electrolysis process the absolute performance approach has been proposed in order to identify the energy intensity threshold In addition to complying with the energy efficiency threshold the process shall be based on low carbon electricity  ETS product benchmarks have been selected as thresholds for the manufacturing of carbon black and soda ash They reflect the average performance of the 10 most efficient installations in a sector  Emissions covered\n",
      "\n",
      "doc2vec: Manufacture of eligible low carbon transport vehicles fleets and vessels  Manufacture of eligible energy efficiency equipment for buildings   Manufacture of other low carbon technologies that result in substantial\n",
      "--------------------\n",
      "What metric is used for evaluating emission?\n",
      "tfidf: The threshold metric is gCO2e and not an intensity metric such as gCO2e unit of production as this enables the Taxonomy to be applied by both those reducing emission intensity eg through efficiency while also requiring them to reduce emissions overall  the overall goal\n",
      "\n",
      "doc2vec: Efficient low and zero direct emissions fleets This category requires that operated vehicles become more efficient over time by linking eligibility to emissions performance below a certain threshold set to ensure substantially reduced emissions\n",
      "--------------------\n",
      "How can carbon emission of the processes of cement clinker be reduced?\n",
      "tfidf: Improving energy efficiency Thermal energy intensity of clinker and the electric intensity of cement can be reduced by deploying existing stateoftheart technologies in new cement plants and retrofitting existing facilities to improve energy performance levels when economically viable   Switching to alternative fuels The carbon intensity of cement clinker can be reduced significantly by the use of biomass and waste materials as fuels in cement kilns The clinker burning process offers good conditions for using different types of waste materials replacing parts of the consumption of carbonintensive fossil fuels A wide range of different types of wastes can be used as fuels but as these can replace primary fuel in cement kilns a consistent waste quality is essential eg adequate calorific value metal halogen and ash content\n",
      "\n",
      "doc2vec: Carbon intensity metrics One of the most common metrics used as technical criteria for the Taxonomy is carbon intensity the amount of CO2 emissions equivalent per unit of electricity generated or per unit of output While all companies participating in the EU ETS have been submitting information about their verified emissions carbon intensities are not always easily accessible\n",
      "--------------------\n",
      "How is the Weighted Cogeneration Threshold calculated?\n",
      "tfidf: Any combined heat and power generation technology is eligible if it can be demonstrated using an ISO 14044compliant Life Cycle of Emissions LCE assessment that the facility is operating at less than the weighted cogeneration threshold  The Weighted Cogeneration Threshold is calculated from the relative production of heat and power and based on the declining power generation threshold of 100 gCO2ekWhe and a notional heat threshold of 30 gCO2ekWhth\n",
      "\n",
      "doc2vec: For chlorine the value corresponding to an efficient level of electricity consumption was selected as the threshold given that the main source of energy used for the production of chlorine is electricity and by improving the energy efficiency of the process as well as using low carbon electricity sources  the activity can substantially contribute to the climate change mitigation objective  httpseurlexeuropaeuLexUriServLexUriServdouriOJC201238700050013ENPDF  httpsepubwupperinstorgfrontdoordeliverindexdocId6478file6478_Lechtenboehmerpdf EU average data reported in a CEPS desk study CEPS Ares2014 17426627012014\n",
      "--------------------\n",
      "What is carbon capture and sequestration?\n",
      "tfidf: Why carbon capture and sequestration CCS is included in the Taxonomy  Carbon capture and sequestration CCS is a key technology for the decarbonisation of Europe It is included in all pathways presented by the European Commission in its LongTerm Strategic Vision document and is relied upon heavily in threeoutoffour scenarios outlined by the IPCC in the Special Report on 15 Degrees\n",
      "\n",
      "doc2vec: The Platform is asked to consider how mitigation actions which deliver significant mitigation might be identified and evaluated and how these can be incorporated into the Taxonomy This includes 1 determining a rule set to determining what counts as significant mitigation from individual actions which may be consistent with similar rule sets across other economic activities or common across agricultural activities only or specific to perennial cropland management  Do no significant harm assessment Key environmental aspects to be considered for investments in growing of perennial crops span across all other five objectives and are summarized as follows\n",
      "--------------------\n",
      "What stages does CCS consist of?\n",
      "tfidf: A typical CCS chain consists of three main stages capture transport and storage CO2 transport and storage are established and proven processes with decades of operation and wellestablished regulation here in Europe\n",
      "\n",
      "doc2vec: Sector classification and activity MacroSector F  Construction 2 NACE Level F41 F43 Code Construction of new buildings This relates primarily to activities under NACE Description codes F411  Development of building projects and F412  Construction of residential and nonresidential buildings but includes also activities under NACE code F43  Specialised construction activities\n",
      "--------------------\n",
      "What should be the average energy consumption of a water supply system?\n",
      "tfidf: length of the network etc For the purpose of the Taxonomy ILI and kwhm3 supplied were chosen as parameters in order to measure the efficiency of a water supply system  An average energy consumption of a water supply system of 05 kwh per cubic meter billedunbilled authorized water supply indicates a high performing system in terms of energy consumption Several energy efficiency measures can reduce directly the energy consumption in a water supply system enabling significant reductions of GHG emissions these are inter alia\n",
      "\n",
      "doc2vec: considers both current weather variability and future climate change including uncertainty is based on robust analysis of available climate data and projections across a range of future scenarios is consistent with the expected lifetime of the activity\n",
      "--------------------\n",
      "What are examples of sludge treatments?\n",
      "tfidf: Threshold Rationale Sewage sludge is a byproduct of wastewater treatment with organic and inorganic content The organic content of the sludge is subject of decomposition which might occur under controlled circumstances in sludge treatment installations or under uncontrolled circumstances in the final disposal with significant GHG emissions mainly methane Anaerobic Digestion AD and in some cases aerobic digestion are examples of sludge treatments In AD microorganisms decompose the organic matter of the sludge in the absence of oxygen and produce methanerich biogas The climate mitigation effect is dual  i The biogas is a source of energy which is transformed into heat electricity or fuel replacing fossil fuels in electricity  heat generation and consequently avoiding GHG emissions to air CO2 N2O etc320 ii the sludge is turned into a recyclable product eg as fertilizer substituting synthetic fertilizers  Sludge treatment is in many cases centralized in wastewater treatment plants WWTP which treat the sludge and produce energy from sludge produced in the WWTP or outside the plant  Methane leakage may offset the climate mitigation benefits and therefore needs to be avoided A monitoring system allows the detection of leakages it is in the interest of the operator to fix detected leakages in order to minimize economic losses\n",
      "\n",
      "doc2vec: Threshold Rationale Composting describes the process by which microorganisms decompose biodegradable waste in the presence of oxygen which is why it is sometimes also referred to as aerobic digestion  As part of an integrated waste management system composting is a valid route to divert biodegradable waste from landfilling and thus reduce the uncontrolled emissions of landfill gas in particular methane Composting makes organic matter more resilient to further degradation The end product is compost which can be used as a natural fertilizer or soil improver in agriculture horticulture and hobby gardening provided it is of a sufficient quality The use of compost instead of synthetic fertilizers  eg derived from byproducts of the petroleum industry  saves energy and reduces the consumption of fossil fuels Other climate mitigation effects of compost use include the longterm carbon capture in soils328 Overall anaerobic digestion AD exhibits the better environmental performance for the treatment of municipal biowaste above all when digestate gets postcomposted where both the biogas and the digestate can be utilized Thus where technically viable AD should be given preference to composting At commercial scale this could be presumed where appropriate feedstock putrescible wastes with high humidity is secured in stable quantities  20000 tpa as a rule of thumb\n",
      "--------------------\n",
      "How is the process of anaerobic digestion?\n",
      "tfidf: E  Water supply sewerage waste management and remediation activities 4 E3821  Anaerobic digestion of biowaste322 Treatment of separately collected biowaste through anaerobic digestion with the resulting production and energetic utilization of biogas and production of digestate for use as fertilizersoil improver323 possibly after composting or any other treatment\n",
      "\n",
      "doc2vec: As for financial institutions it might be costly for companies to correctly assess whether activities are in line with the Taxonomy data quality and availability Internal processes and be upgraded to support the adoption of the Taxonomy across the whole investment process data collection\n",
      "--------------------\n",
      "How is reforestation defined?\n",
      "tfidf: A  Agriculture forest and silviculture 2 A2 Reforestation Reforestation is defined as reestablishment of forest through planting andor deliberate seeding on land classified as forest It implies no change of land use includes plantingseeding of temporarily unstocked forest areas as well as plantingseeding of areas with forest cover It includes coppice from trees that were originally planted or seeded It excludes natural regeneration of forest206\n",
      "\n",
      "doc2vec: A  Agriculture forest and silviculture 2 A2 Reforestation Reforestation is defined as reestablishment of forest through planting andor deliberate seeding on land classified as forest It implies no change of land use includes plantingseeding of temporarily unstocked forest areas as well as plantingseeding of areas with forest cover It includes coppice from trees that were originally planted or seeded It excludes natural regeneration of forest206\n",
      "--------------------\n",
      "What is the threshold of emssion for inland passenger water transport?\n",
      "tfidf: Rationale The threshold of 50gCO2epkm relates to the thresholds set for road passenger vehicles and passenger rail If inland passenger water transport operations can at least match the thresholds of those modes it is deemed to be making a substantial contribution as it offers significantly lower emissions than average car emissions  The threshold should be reviewed in or prior to 2025 rather than specifying now that only zero direct emissions will be eligible at that point to analyse the modal shift comparison with cars and technology developments in the sector  With limited availability of zero tailpipe emission fleets for this activity fuel substitution to advanced biofuels and renewable synthetic fuels are considered a relevant mitigation option for some transport modes in the medium term as identified in the EC Long term strategy378 Do no significant harm assessment The main potential significant harm to other environmental objectives from the operation of inland passenger and freight water transport are summarised as follows\n",
      "\n",
      "doc2vec: Rationale The carbon intensity of freight rail even if diesel is in most cases significantly lower than road freight transport rail freight transport at least meeting the threshold proposed in the road transport HDV criteria is eligible Average direct emissions for diesel rail is in the range of 1840 gCO2etkm347 compared 80100gCO2etkm for road freight348 Emissions intensity can vary significantly depending on the type of cargo transported This criterion should be reviewed in 2025 Transport of fossil fuels is considered to have potential negative impacts on climate change and therefore is excluded A percentage of fossil fuels transported was considered as a threshold but following feedback from experts it is considered difficult to implement a  threshold because for example it is not easily known particularly exante how locomotives will be used Do no significant harm assessment The main potential significant harm to other environmental objectives from the operation of rail transport activities are attributed to air pollution noise and vibration pollution and some potential for water contamination Direct emissions of air pollutants are not an issue of concern in the case of electrified rail but only where very efficient diesel or hybrid engines would meet the CO2e threshold defined to ensure substantial mitigation of GHG emissions 2 Adaptation  A1 Reducing material physical climate risks\n",
      "--------------------\n",
      "What are the requirements of reporting for electricity generation from natural gas where there might be fugative emissions?\n",
      "tfidf: However with electricity generation from natural gas where the risk of fugitive emissions across the gas supply chain is seen as high there is a requirement to provide a full life cycle assessment of fugitive emissions on ongoing basis This assessment should include actual physical measurements ie methane leakage measurements across gas extraction transport and storage systems Electricity generation from other gaseous fuels such as hydrogen or renewable gases would be eligible under the Taxonomy subject to meeting the declining emissions threshold\n",
      "\n",
      "doc2vec: D  Electricity Gas Steam and Air Conditioning Supply 4 D3511 D3530 Construction and operation of a facility used for cogeneration of heatcooling and power from Gas Combustion not exclusive to natural gas\n",
      "--------------------\n"
     ]
    }
   ],
   "source": [
    "for ic,(question, context)  in enumerate(qcontexts):\n",
    "    print(question[0])\n",
    "    print(f\"tfidf: {context}\\n\\ndoc2vec: {qcontext_doc2vec[ic][1]}\")\n",
    "    print(\"-\"*20)"
   ]
  }
 ],
 "metadata": {
  "kernelspec": {
   "display_name": "LiveProject",
   "language": "python",
   "name": "liveproject"
  },
  "language_info": {
   "codemirror_mode": {
    "name": "ipython",
    "version": 3
   },
   "file_extension": ".py",
   "mimetype": "text/x-python",
   "name": "python",
   "nbconvert_exporter": "python",
   "pygments_lexer": "ipython3",
   "version": "3.8.3"
  }
 },
 "nbformat": 4,
 "nbformat_minor": 2
}
